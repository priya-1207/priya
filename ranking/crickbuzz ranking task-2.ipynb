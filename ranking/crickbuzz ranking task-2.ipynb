{
 "cells": [
  {
   "cell_type": "code",
   "execution_count": 2,
   "metadata": {},
   "outputs": [],
   "source": [
    "import selenium\n",
    "import os\n",
    "os.chdir(r'D:\\ranking')\n",
    "\n"
   ]
  },
  {
   "cell_type": "code",
   "execution_count": 3,
   "metadata": {},
   "outputs": [
    {
     "data": {
      "text/plain": [
       "'D:\\\\ranking'"
      ]
     },
     "execution_count": 3,
     "metadata": {},
     "output_type": "execute_result"
    }
   ],
   "source": [
    "from selenium import webdriver\n",
    "from selenium.webdriver.support.ui import Select\n",
    "import pandas as pd\n",
    "import time\n",
    "os.getcwd()"
   ]
  },
  {
   "cell_type": "code",
   "execution_count": 4,
   "metadata": {},
   "outputs": [
    {
     "name": "stderr",
     "output_type": "stream",
     "text": [
      "C:\\Users\\ELCOT\\anaconda3\\lib\\site-packages\\xlsxwriter\\workbook.py:329: UserWarning: Calling close() on already closed file.\n",
      "  warn(\"Calling close() on already closed file.\")\n",
      "C:\\Users\\ELCOT\\anaconda3\\lib\\site-packages\\xlsxwriter\\workbook.py:329: UserWarning: Calling close() on already closed file.\n",
      "  warn(\"Calling close() on already closed file.\")\n",
      "C:\\Users\\ELCOT\\anaconda3\\lib\\site-packages\\xlsxwriter\\workbook.py:329: UserWarning: Calling close() on already closed file.\n",
      "  warn(\"Calling close() on already closed file.\")\n",
      "C:\\Users\\ELCOT\\anaconda3\\lib\\site-packages\\xlsxwriter\\workbook.py:329: UserWarning: Calling close() on already closed file.\n",
      "  warn(\"Calling close() on already closed file.\")\n"
     ]
    },
    {
     "name": "stdout",
     "output_type": "stream",
     "text": [
      "unwanted data\n"
     ]
    },
    {
     "name": "stderr",
     "output_type": "stream",
     "text": [
      "C:\\Users\\ELCOT\\anaconda3\\lib\\site-packages\\xlsxwriter\\workbook.py:329: UserWarning: Calling close() on already closed file.\n",
      "  warn(\"Calling close() on already closed file.\")\n"
     ]
    }
   ],
   "source": [
    "driverpath=r\"C:\\Users\\ELCOT\\Downloads\\chromedriver_win32\\chromedriver.exe\"\n",
    "driver=webdriver.Chrome(executable_path=driverpath)\n",
    "driver.get(\"https://www.cricbuzz.com/cricket-stats/icc-rankings/men/batting\")\n",
    "driver.maximize_window()\n",
    "sub_cat = ['tests','odis','t20s']\n",
    "category=['batsmen','bowlers','teams']\n",
    "ex=\"allrounders\"\n",
    "pt=\"all-rounders\"\n",
    "try:\n",
    "     for j in category:\n",
    "                driver.find_element_by_xpath(\"//a[@id='\"+j+\"-tab']\").click()\n",
    "                writer=pd.ExcelWriter(j+\".xlsx\", engine='xlsxwriter')\n",
    "                for i in sub_cat:\n",
    "                    emp_list=[]\n",
    "                    testing=driver.find_element_by_xpath(\"//a[@id='\"+j+\"-\"+i+\"-tab']\").click()\n",
    "                    if i ==\"tests\":\n",
    "                        table=driver.find_elements_by_xpath('//*[@id=\"page-wrapper\"]/div[3]/div[2]/div/div/div[1]/div') \n",
    "                        for k in table:\n",
    "                              emp_list.append(k.text.split(\"\\n\"))\n",
    "                    elif i ==\"odis\":\n",
    "                        table=driver.find_elements_by_xpath('//*[@id=\"page-wrapper\"]/div[3]/div[2]/div/div/div[2]/div') \n",
    "                        for k in table:\n",
    "                             emp_list.append(k.text.split(\"\\n\"))\n",
    "                    else:\n",
    "                        table=driver.find_elements_by_xpath('//*[@id=\"page-wrapper\"]/div[3]/div[2]/div/div/div[3]/div') \n",
    "                        for k in table:\n",
    "                              emp_list.append(k.text.split(\"\\n\"))\n",
    "                    Df=pd.DataFrame(emp_list,columns=[\"Position\",\"nan\",\"Teams\",\"Ratings\",\"Points\"])\n",
    "                    Df.dropna(axis=\"columns\", inplace=True)\n",
    "                    Df.dropna(axis=\"rows\", inplace=True)\n",
    "                    Df.to_excel(writer, sheet_name=i)\n",
    "                    writer.save()\n",
    "except:\n",
    "    driver.find_element_by_xpath(\"//a[@id='\"+j+\"-tab']\").click()\n",
    "    writer=pd.ExcelWriter(j+\".xlsx\", engine='xlsxwriter')\n",
    "for i in sub_cat:\n",
    "        testing=driver.find_element_by_xpath(\"//a[@id='\"+j+\"-\"+i+\"-tab']\").click()\n",
    "        if i ==\"tests\":\n",
    "            emp_list=[]\n",
    "            table=driver.find_elements_by_xpath('//*[@id=\"page-wrapper\"]/div[3]/div[2]/div/div/div[1]/div') \n",
    "            for k in table:\n",
    "                if k.text.startswith(\"*\"):\n",
    "                    print(\"unwanted data\")\n",
    "                else:\n",
    "                    emp_list.append(k.text.split(\"\\n\"))\n",
    "        elif i ==\"odis\":\n",
    "            emp_list=[]\n",
    "            table=driver.find_elements_by_xpath('//*[@id=\"page-wrapper\"]/div[3]/div[2]/div/div/div[2]/div') \n",
    "            for k in table:\n",
    "                          emp_list.append(k.text.split(\"\\n\"))\n",
    "        else:\n",
    "            emp_list=[]\n",
    "            table=driver.find_elements_by_xpath('//*[@id=\"page-wrapper\"]/div[3]/div[2]/div/div/div[3]/div') \n",
    "            for k in table:\n",
    "                         emp_list.append(k.text.split(\"\\n\"))\n",
    "        Df=pd.DataFrame(emp_list,columns=[\"Position\",\"Teams\",\"Ratings\",\"Points\"])\n",
    "        Df.dropna(axis=\"columns\", inplace=True)\n",
    "        Df.dropna(axis=\"rows\", inplace=True)\n",
    "        Df.to_excel(writer, sheet_name=i)\n",
    "writer.save()\n",
    "#finally:\n",
    "    #driver.find_element_by_xpath(\"//a[@id='\"+pt+\"-tab']\").click()\n",
    "   # writer=pd.ExcelWriter(pt+\".xlsx\", engine='xlsxwriter')\n",
    "    #for i in sub_cat:\n",
    "     #   emp_list=[]\n",
    "      #  testing=driver.find_element_by_xpath(\"//a[@id='\"+ex+\"-\"+i+\"-tab']\").click()\n",
    "        #k=driver.find_elements_by_xpath(\"//a[@id='\"+exe+\"-\"+k+\"-tab']//following::div[contains(@class,'cb-col cb-col-100 cb-font-14 cb-lst-itm text-center')]\")\n",
    "        #for k in table:\n",
    "         #            emp_list.append(k.text.split(\"\\n\"))\n",
    "    #Df=pd.DataFrame(emp_list,columns=[\"Position\",\"nan\",\"Teams\",\"Ratings\",\"Points\"])\n",
    "     #   Df.dropna(axis=\"columns\", inplace=True)\n",
    "    #Df.dropna(axis=\"rows\", inplace=True)\n",
    "    #Df.to_excel(writer, sheet_name=pt+\"_\"+i)\n",
    "#writer.save()\n",
    "writer.close()"
   ]
  },
  {
   "cell_type": "code",
   "execution_count": 76,
   "metadata": {},
   "outputs": [
    {
     "name": "stderr",
     "output_type": "stream",
     "text": [
      "C:\\Users\\ELCOT\\anaconda3\\lib\\site-packages\\xlsxwriter\\workbook.py:329: UserWarning: Calling close() on already closed file.\n",
      "  warn(\"Calling close() on already closed file.\")\n",
      "C:\\Users\\ELCOT\\anaconda3\\lib\\site-packages\\xlsxwriter\\workbook.py:329: UserWarning: Calling close() on already closed file.\n",
      "  warn(\"Calling close() on already closed file.\")\n",
      "C:\\Users\\ELCOT\\anaconda3\\lib\\site-packages\\xlsxwriter\\workbook.py:329: UserWarning: Calling close() on already closed file.\n",
      "  warn(\"Calling close() on already closed file.\")\n",
      "C:\\Users\\ELCOT\\anaconda3\\lib\\site-packages\\xlsxwriter\\workbook.py:329: UserWarning: Calling close() on already closed file.\n",
      "  warn(\"Calling close() on already closed file.\")\n"
     ]
    },
    {
     "name": "stdout",
     "output_type": "stream",
     "text": [
      "unwanted data\n"
     ]
    },
    {
     "name": "stderr",
     "output_type": "stream",
     "text": [
      "C:\\Users\\ELCOT\\anaconda3\\lib\\site-packages\\xlsxwriter\\workbook.py:329: UserWarning: Calling close() on already closed file.\n",
      "  warn(\"Calling close() on already closed file.\")\n"
     ]
    }
   ],
   "source": [
    "driverpath=r\"C:\\Users\\ELCOT\\Downloads\\chromedriver_win32\\chromedriver.exe\"\n",
    "driver=webdriver.Chrome(executable_path=driverpath)\n",
    "driver.get(\"https://www.cricbuzz.com/cricket-stats/icc-rankings/men/batting\")\n",
    "driver.maximize_window()\n",
    "sub_cat = ['tests','odis','t20s']\n",
    "category=['batsmen','bowlers','teams']\n",
    "ex=\"allrounders\"\n",
    "pt=\"all-rounders\"\n",
    "try:\n",
    "     for j in category:\n",
    "                driver.find_element_by_xpath(\"//a[@id='\"+j+\"-tab']\").click()\n",
    "                writer=pd.ExcelWriter(j+\".xlsx\", engine='xlsxwriter')\n",
    "                for i in sub_cat:\n",
    "                    emp_list=[]\n",
    "                    testing=driver.find_element_by_xpath(\"//a[@id='\"+j+\"-\"+i+\"-tab']\").click()\n",
    "                    if i ==\"tests\":\n",
    "                        table=driver.find_elements_by_xpath('//*[@id=\"page-wrapper\"]/div[3]/div[2]/div/div/div[1]/div') \n",
    "                        for k in table:\n",
    "                              emp_list.append(k.text.split(\"\\n\"))\n",
    "                    elif i ==\"odis\":\n",
    "                        table=driver.find_elements_by_xpath('//*[@id=\"page-wrapper\"]/div[3]/div[2]/div/div/div[2]/div') \n",
    "                        for k in table:\n",
    "                             emp_list.append(k.text.split(\"\\n\"))\n",
    "                    else:\n",
    "                        table=driver.find_elements_by_xpath('//*[@id=\"page-wrapper\"]/div[3]/div[2]/div/div/div[3]/div') \n",
    "                        for k in table:\n",
    "                              emp_list.append(k.text.split(\"\\n\"))\n",
    "                    Df=pd.DataFrame(emp_list,columns=[\"Position\",\"nan\",\"Teams\",\"Ratings\",\"Points\"])\n",
    "                    Df.dropna(axis=\"columns\", inplace=True)\n",
    "                    Df.dropna(axis=\"rows\", inplace=True)\n",
    "                    Df.to_excel(writer, sheet_name=i)\n",
    "                    writer.save()\n",
    "except:\n",
    "    driver.find_element_by_xpath(\"//a[@id='\"+j+\"-tab']\").click()\n",
    "    writer=pd.ExcelWriter(j+\".xlsx\", engine='xlsxwriter')\n",
    "    for i in sub_cat:\n",
    "        testing=driver.find_element_by_xpath(\"//a[@id='\"+j+\"-\"+i+\"-tab']\").click()\n",
    "        if i ==\"tests\":\n",
    "            emp_list=[]\n",
    "            table=driver.find_elements_by_xpath('//*[@id=\"page-wrapper\"]/div[3]/div[2]/div/div/div[1]/div') \n",
    "            for k in table:\n",
    "                if k.text.startswith(\"*\"):\n",
    "                    print(\"unwanted data\")\n",
    "                else:\n",
    "                    emp_list.append(k.text.split(\"\\n\"))\n",
    "        elif i ==\"odis\":\n",
    "            emp_list=[]\n",
    "            table=driver.find_elements_by_xpath('//*[@id=\"page-wrapper\"]/div[3]/div[2]/div/div/div[2]/div') \n",
    "            for k in table:\n",
    "                          emp_list.append(k.text.split(\"\\n\"))\n",
    "        else:\n",
    "            emp_list=[]\n",
    "            table=driver.find_elements_by_xpath('//*[@id=\"page-wrapper\"]/div[3]/div[2]/div/div/div[3]/div') \n",
    "            for k in table:\n",
    "                         emp_list.append(k.text.split(\"\\n\"))\n",
    "        Df=pd.DataFrame(emp_list,columns=[\"Position\",\"Teams\",\"Ratings\",\"Points\"])\n",
    "        Df.dropna(axis=\"columns\", inplace=True)\n",
    "        Df.dropna(axis=\"rows\", inplace=True)\n",
    "        Df.to_excel(writer, sheet_name=i)\n",
    "\n",
    "finally:\n",
    "    driver.find_element_by_xpath(\"//a[@id='\"+pt+\"-tab']\").click()\n",
    "    writer=pd.ExcelWriter(pt+\".xlsx\", engine='xlsxwriter')\n",
    "    for i in sub_cat:\n",
    "        emp_list=[]\n",
    "        driver.find_element_by_xpath(\"//a[@id='\"+ex+\"-\"+i+\"-tab']\").click()\n",
    "        for num in range(1,4):\n",
    "            table=driver.find_elements_by_xpath(\"//body/div[1]/div[2]/div[3]/div[2]/div[1]/div[1]/div[\"+str(num)+\"]\")\n",
    "            for k in table:\n",
    "                emp_list.append(k.text.split(\"\\n\"))\n",
    "                Df=pd.DataFrame(emp_list,columns=[])\n",
    "                Df.dropna(axis=\"columns\", inplace=True)\n",
    "                Df.dropna(axis=\"rows\", inplace=True)\n",
    "                Df.to_excel(writer, sheet_name=pt+\"_\"+i)\n",
    "    \n",
    "writer.save()\n",
    "writer.close()"
   ]
  },
  {
   "cell_type": "code",
   "execution_count": 19,
   "metadata": {},
   "outputs": [],
   "source": []
  },
  {
   "cell_type": "code",
   "execution_count": 17,
   "metadata": {},
   "outputs": [
    {
     "data": {
      "text/plain": [
       "'D:\\\\images'"
      ]
     },
     "execution_count": 17,
     "metadata": {},
     "output_type": "execute_result"
    }
   ],
   "source": []
  },
  {
   "cell_type": "code",
   "execution_count": null,
   "metadata": {},
   "outputs": [],
   "source": []
  }
 ],
 "metadata": {
  "kernelspec": {
   "display_name": "Python 3",
   "language": "python",
   "name": "python3"
  },
  "language_info": {
   "codemirror_mode": {
    "name": "ipython",
    "version": 3
   },
   "file_extension": ".py",
   "mimetype": "text/x-python",
   "name": "python",
   "nbconvert_exporter": "python",
   "pygments_lexer": "ipython3",
   "version": "3.8.5"
  }
 },
 "nbformat": 4,
 "nbformat_minor": 4
}
