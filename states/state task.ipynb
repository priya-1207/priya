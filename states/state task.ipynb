{
 "cells": [
  {
   "cell_type": "code",
   "execution_count": 1,
   "metadata": {},
   "outputs": [],
   "source": [
    "import selenium\n",
    "import os\n",
    "os.chdir(r'D:\\ranking')\n",
    "\n"
   ]
  },
  {
   "cell_type": "code",
   "execution_count": 2,
   "metadata": {},
   "outputs": [
    {
     "data": {
      "text/plain": [
       "'D:\\\\ranking'"
      ]
     },
     "execution_count": 2,
     "metadata": {},
     "output_type": "execute_result"
    }
   ],
   "source": [
    "from selenium import webdriver\n",
    "from selenium.webdriver.support.ui import Select\n",
    "import pandas as pd\n",
    "import time\n",
    "os.getcwd()"
   ]
  },
  {
   "cell_type": "code",
   "execution_count": null,
   "metadata": {},
   "outputs": [],
   "source": []
  },
  {
   "cell_type": "code",
   "execution_count": 18,
   "metadata": {},
   "outputs": [],
   "source": [
    "driverPath = r\"C:\\Users\\ELCOT\\Downloads\\chromedriver_win32\\chromedriver.exe\"\n",
    "driver = webdriver.Chrome(executable_path=driverPath)\n",
    "driver.get(\"https://ai.fmcsa.dot.gov/hhg/Search.asp?ads=a\")\n",
    "states = driver.find_elements_by_xpath(\"//option[contains(text(),'Please select state')]//following::option\")\n",
    "AllStates = []\n",
    "writer = pd.ExcelWriter(r'states.xlsx', engine='xlsxwriter')\n",
    "try:\n",
    "    for i in states:\n",
    "        AllStates.append(i.text)\n",
    "    \n",
    "    for i in AllStates[2:10]:\n",
    "        driver.find_element_by_name(\"state\").click()\n",
    "        driver.find_element_by_name(\"state\").send_keys(i)\n",
    "        driver.find_element_by_name(\"state\").click()\n",
    "        driver.find_element_by_name(\"Submit\").click()\n",
    "    \n",
    "        pri = []\n",
    "        \n",
    "        states = driver.find_elements_by_xpath('//tr[contains(@scope,\"row\")]')\n",
    "        for k in states:\n",
    "            pri.append(k.text.split('  '))\n",
    "        driver.back()\n",
    "        \n",
    "        df = pd.DataFrame(pri,columns = ['Company Name','Headquarters Location', 'Company Type', 'Fleet Size'])   \n",
    "        df.to_excel(writer, sheet_name= i, index=False)\n",
    "except:\n",
    "    print(\"no data\")\n",
    "writer.save()\n",
    "writer.close()\n",
    "\n",
    "driver.close()"
   ]
  },
  {
   "cell_type": "code",
   "execution_count": null,
   "metadata": {},
   "outputs": [],
   "source": []
  }
 ],
 "metadata": {
  "kernelspec": {
   "display_name": "Python 3",
   "language": "python",
   "name": "python3"
  },
  "language_info": {
   "codemirror_mode": {
    "name": "ipython",
    "version": 3
   },
   "file_extension": ".py",
   "mimetype": "text/x-python",
   "name": "python",
   "nbconvert_exporter": "python",
   "pygments_lexer": "ipython3",
   "version": "3.8.5"
  }
 },
 "nbformat": 4,
 "nbformat_minor": 4
}
